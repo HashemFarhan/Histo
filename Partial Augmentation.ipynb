{
  "nbformat": 4,
  "nbformat_minor": 0,
  "metadata": {
    "colab": {
      "name": "Copy of Histopathology Classification.ipynb",
      "provenance": [],
      "collapsed_sections": [],
      "mount_file_id": "15KRCkgkUy2BjUU-U0rLPUwYxRHqcSVTb",
      "authorship_tag": "ABX9TyM63cfqCBVf828GeO/0y+Q9",
      "include_colab_link": true
    },
    "kernelspec": {
      "name": "python3",
      "display_name": "Python 3"
    }
  },
  "cells": [
    {
      "cell_type": "markdown",
      "metadata": {
        "id": "view-in-github",
        "colab_type": "text"
      },
      "source": [
        "<a href=\"https://colab.research.google.com/github/HashemFarhan/Histo/blob/main/Partial%20Augmentation.ipynb\" target=\"_parent\"><img src=\"https://colab.research.google.com/assets/colab-badge.svg\" alt=\"Open In Colab\"/></a>"
      ]
    },
    {
      "cell_type": "code",
      "metadata": {
        "id": "FhxZdTqzzCDV"
      },
      "source": [
        "from skimage import io, color, exposure, transform\n",
        "import matplotlib.pyplot as plt\n",
        "from google.colab import drive\n",
        "from numpy import asarray\n",
        "import skimage.io as io\n",
        "from skimage import filters, transform, util\n",
        "import random as rnd\n",
        "from PIL import Image\n",
        "from glob import glob\n",
        "import random as rnd\n",
        "import pandas as pd\n",
        "import numpy as np\n",
        "import os"
      ],
      "execution_count": 20,
      "outputs": []
    },
    {
      "cell_type": "markdown",
      "metadata": {
        "id": "q5NONXUWeB9C"
      },
      "source": [
        "The following code is for partial data augmentation. The final procedures regarding the complete implementation are not yet fully honed."
      ]
    },
    {
      "cell_type": "code",
      "metadata": {
        "id": "pBsLKDWO7bzE"
      },
      "source": [
        "from glob import glob\n",
        "\n",
        "patches = glob(\"/content/drive/MyDrive/Colab Notebooks/IDC_regular_ps50_idx5/**/*.png\", recursive=True)"
      ],
      "execution_count": 15,
      "outputs": []
    },
    {
      "cell_type": "code",
      "metadata": {
        "id": "ZdhlzdXLMHf-",
        "colab": {
          "base_uri": "https://localhost:8080/"
        },
        "outputId": "eb4f6d65-b781-428b-8d90-1174b98e7596"
      },
      "source": [
        "print(len(patches))\n",
        "print(type(patches))"
      ],
      "execution_count": 54,
      "outputs": [
        {
          "output_type": "stream",
          "text": [
            "277524\n",
            "<class 'list'>\n"
          ],
          "name": "stdout"
        }
      ]
    },
    {
      "cell_type": "code",
      "metadata": {
        "id": "1KydvK0edsFf",
        "colab": {
          "base_uri": "https://localhost:8080/"
        },
        "outputId": "484f65b8-a68c-4bc6-8474-2270b1146f5e"
      },
      "source": [
        "for i in range(5):\n",
        "  print(patches[i])"
      ],
      "execution_count": 17,
      "outputs": [
        {
          "output_type": "stream",
          "text": [
            "/content/drive/MyDrive/Colab Notebooks/IDC_regular_ps50_idx5/9382/1/9382_idx5_x1851_y1401_class1.png\n",
            "/content/drive/MyDrive/Colab Notebooks/IDC_regular_ps50_idx5/9382/1/9382_idx5_x1401_y1001_class1.png\n",
            "/content/drive/MyDrive/Colab Notebooks/IDC_regular_ps50_idx5/9382/1/9382_idx5_x1351_y1401_class1.png\n",
            "/content/drive/MyDrive/Colab Notebooks/IDC_regular_ps50_idx5/9382/1/9382_idx5_x1201_y1451_class1.png\n",
            "/content/drive/MyDrive/Colab Notebooks/IDC_regular_ps50_idx5/9382/1/9382_idx5_x1401_y1501_class1.png\n"
          ],
          "name": "stdout"
        }
      ]
    },
    {
      "cell_type": "code",
      "metadata": {
        "id": "BUl42k2OeGex",
        "colab": {
          "base_uri": "https://localhost:8080/"
        },
        "outputId": "635d7b96-8935-4e7a-b917-bd2001d4626a"
      },
      "source": [
        "neg = []\n",
        "pos = []\n",
        "for i in range(len(patches)):\n",
        "#  rand = rnd.randint(0, len(patches))\n",
        "  x = patches[i]\n",
        "  neg.append(x) if(\"class0.png\" in x) else pos.append(x)\n",
        "\n",
        "print(\"Frequency of Negative class:\",len(neg))\n",
        "print(\"Frequency of Positive class:\",len(pos))\n",
        "#print(round((len(neg) / len(patches) * 100), 2))\n",
        "#print(round((len(pos) / len(patches) * 100), 2))"
      ],
      "execution_count": 18,
      "outputs": [
        {
          "output_type": "stream",
          "text": [
            "Frequency of Negative class: 198738\n",
            "Frequency of Positive class: 78786\n"
          ],
          "name": "stdout"
        }
      ]
    },
    {
      "cell_type": "code",
      "metadata": {
        "id": "ZYdKdApdpgFG",
        "colab": {
          "base_uri": "https://localhost:8080/",
          "height": 279
        },
        "outputId": "5b08f580-4201-4fd9-b747-e8640f0b71d8"
      },
      "source": [
        "freq = [len(pos), len(neg)]\n",
        "classes = [\"1\", \"0\"]\n",
        "\n",
        "plt.bar(classes, freq)\n",
        "plt.ylabel(\"Number of Images\")\n",
        "plt.xlabel(\"Class\")\n",
        "plt.show()"
      ],
      "execution_count": 21,
      "outputs": [
        {
          "output_type": "display_data",
          "data": {
            "image/png": "[encoded data removed]",
            "text/plain": [
              "<Figure size 432x288 with 1 Axes>"
            ]
          },
          "metadata": {
            "tags": [],
            "needs_background": "light"
          }
        }
      ]
    },
    {
      "cell_type": "code",
      "metadata": {
        "id": "pA35wVqq9L5U"
      },
      "source": [
        "def augment(im):\n",
        "  choose = rnd.randint(0, 4)\n",
        "  if(choose == 0):\n",
        "    x = [45, 90, 180, -45, -90]\n",
        "    x = x[rnd.randint(0, 4)]\n",
        "    rot = transform.rotate(im, angle=x, mode=\"wrap\")\n",
        "    return rot\n",
        "  if(choose == 1):\n",
        "    flip_u = np.flipud(im)\n",
        "    return flip_u\n",
        "  if(choose == 2):\n",
        "    flip_r = np.fliplr(im)\n",
        "    return flip_r\n",
        "  if(choose == 3):\n",
        "    blur = filters.gaussian(im, sigma=0.6, multichannel=True)\n",
        "    return blur\n",
        "  if(choose == 4):\n",
        "    noise = util.random_noise(im, var=0.155**2)\n",
        "    return noise\n",
        "\n",
        "def show_image(image, title='Image', cmap_type='gray'):    \n",
        "    plt.imshow(image, cmap=cmap_type)        \n",
        "    plt.title(title)    \n",
        "    plt.axis('off')    \n",
        "    plt.show()"
      ],
      "execution_count": 22,
      "outputs": []
    },
    {
      "cell_type": "code",
      "metadata": {
        "id": "qL1JrS5NB9w5"
      },
      "source": [
        "#I have used this empty list just for testing the method and for validating. It can be later be merged with the \n",
        "#dataset so that data can be fed to the model more efficiently \n",
        "augmented = []\n",
        "\n",
        "#The number of iterations should be adjusted depending on the amount of 'new' data required, for the to be data perfectly balanced, the number of, do 119952 iteratoins\n",
        "\n",
        "\n",
        "for x in range(252):\n",
        "  name = pos[counter]\n",
        "  image = io.imread(name)\n",
        "  add = augment(image)\n",
        "  augmented.append(add)\n"
      ],
      "execution_count": 52,
      "outputs": []
    },
    {
      "cell_type": "code",
      "metadata": {
        "id": "0c11TADQEIZE"
      },
      "source": [
        "#test_im = io.imread(pos[10])\n",
        "#show_image(test_im)\n",
        "#show_image(augmented[10])\n",
        "\n",
        "for i in range(10):\n",
        "  show_image(augmented[i])\n"
      ],
      "execution_count": null,
      "outputs": []
    },
    {
      "cell_type": "code",
      "metadata": {
        "id": "rV3LCIfy0mMy"
      },
      "source": [
        "pos = pos + augmented"
      ],
      "execution_count": 36,
      "outputs": []
    },
    {
      "cell_type": "code",
      "metadata": {
        "id": "ibYwMEZC1fA9"
      },
      "source": [
        "labels = []\n",
        "for i in range(len(patches)):\n",
        "  labels.append(0) if(\"class0.png\" in patches[i]) else labels.append(1)\n",
        "\n",
        "data = {'Image_Name':patches, 'Class':labels}\n",
        "\n",
        "dataframe = pd.DataFrame(data)"
      ],
      "execution_count": 37,
      "outputs": []
    },
    {
      "cell_type": "code",
      "metadata": {
        "colab": {
          "base_uri": "https://localhost:8080/"
        },
        "id": "KeMhO2171iJ8",
        "outputId": "5df8aad0-b01b-4f6a-8da1-3996d670fa38"
      },
      "source": [
        "print(dataframe.describe())\n",
        "print()\n",
        "print(dataframe.info())"
      ],
      "execution_count": 42,
      "outputs": [
        {
          "output_type": "stream",
          "text": [
            "               Class\n",
            "count  277524.000000\n",
            "mean        0.283889\n",
            "std         0.450884\n",
            "min         0.000000\n",
            "25%         0.000000\n",
            "50%         0.000000\n",
            "75%         1.000000\n",
            "max         1.000000\n",
            "\n",
            "<class 'pandas.core.frame.DataFrame'>\n",
            "RangeIndex: 277524 entries, 0 to 277523\n",
            "Data columns (total 2 columns):\n",
            " #   Column      Non-Null Count   Dtype \n",
            "---  ------      --------------   ----- \n",
            " 0   Image_Name  277524 non-null  object\n",
            " 1   Class       277524 non-null  int64 \n",
            "dtypes: int64(1), object(1)\n",
            "memory usage: 4.2+ MB\n",
            "None\n"
          ],
          "name": "stdout"
        }
      ]
    }
  ]
}
